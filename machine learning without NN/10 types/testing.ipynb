{
 "cells": [
  {
   "cell_type": "code",
   "execution_count": 2,
   "source": [
    "import pickle\n",
    "X_test = pickle.load(open('/Users/jami/Documents local/GitHub/local-Animal-identification-NN/dataset/raw-img/X_test.pkl', 'rb'))\n",
    "y_test = pickle.load(open('/Users/jami/Documents local/GitHub/local-Animal-identification-NN/dataset/raw-img/y_test.pkl', 'rb'))"
   ],
   "outputs": [],
   "metadata": {}
  },
  {
   "cell_type": "code",
   "execution_count": 3,
   "source": [
    "MLPC = pickle.load(open('/Users/jami/Documents local/GitHub/local-Animal-identification-NN/dataset/raw-img/knn.pkl', 'rb'))"
   ],
   "outputs": [],
   "metadata": {}
  },
  {
   "cell_type": "code",
   "execution_count": 4,
   "source": [
    "predictions = MLPC.predict(X_test)\n",
    "print('predicted',predictions[:10])\n",
    "print('y_test',y_test[:10])\n",
    "from sklearn.metrics import accuracy_score\n",
    "print(1-accuracy_score(y_test, predictions))"
   ],
   "outputs": [
    {
     "output_type": "stream",
     "name": "stdout",
     "text": [
      "predicted [1 1 1 1 1 1 1 1 1 1]\n",
      "y_test 5756    1\n",
      "6223    1\n",
      "7817    1\n",
      "3942    1\n",
      "231     0\n",
      "5053    1\n",
      "7788    1\n",
      "8578    1\n",
      "7479    1\n",
      "8471    1\n",
      "Name: label, dtype: int64\n",
      "0.2662586074980873\n"
     ]
    }
   ],
   "metadata": {}
  }
 ],
 "metadata": {
  "interpreter": {
   "hash": "11b97756db98ff135b37f2db2a8b93e297ca8e6c2cf4776734b0ee0ef620ee1c"
  },
  "kernelspec": {
   "name": "python3",
   "display_name": "Python 3.9.7 64-bit ('base': conda)"
  },
  "language_info": {
   "codemirror_mode": {
    "name": "ipython",
    "version": 3
   },
   "file_extension": ".py",
   "mimetype": "text/x-python",
   "name": "python",
   "nbconvert_exporter": "python",
   "pygments_lexer": "ipython3",
   "version": "3.9.7"
  },
  "orig_nbformat": 4
 },
 "nbformat": 4,
 "nbformat_minor": 2
}