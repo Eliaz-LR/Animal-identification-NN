{
 "cells": [
  {
   "cell_type": "code",
   "execution_count": 1,
   "source": [
    "import pandas as pd\n",
    "import numpy as np\n",
    "import os\n",
    "import cv2\n",
    "import matplotlib.pyplot as plt"
   ],
   "outputs": [],
   "metadata": {}
  },
  {
   "cell_type": "code",
   "execution_count": 2,
   "source": [
    "import pickle\n",
    "filename = '/Users/jami/Documents local/GitHub/local-Animal-identification-NN/dataset/raw-imgdatasetHSV.pkl'\n",
    "df = pickle.load(open(filename, 'rb'))"
   ],
   "outputs": [],
   "metadata": {}
  },
  {
   "cell_type": "code",
   "execution_count": 3,
   "source": [
    "working_df = df.copy()\n",
    "working_df = working_df[np.isin(working_df['label'], ['cat', 'dog', 'chicken', 'butterfly', 'cow', 'elephant', 'horse', 'sheep', 'spider', 'squirrel'])]\n",
    "#ne garde que les lignes contenant les chats et les chiens\n",
    "\n",
    "print(working_df['label'].value_counts())\n",
    "print (df)\n",
    "print(working_df.columns)"
   ],
   "outputs": [
    {
     "output_type": "stream",
     "name": "stdout",
     "text": [
      "dog          4863\n",
      "spider       4821\n",
      "chicken      3098\n",
      "horse        2623\n",
      "butterfly    2112\n",
      "cow          1866\n",
      "squirrel     1862\n",
      "sheep        1820\n",
      "cat          1668\n",
      "elephant     1446\n",
      "Name: label, dtype: int64\n",
      "          label                                            img_hsv\n",
      "0           cat  [[[41, 162, 126], [41, 163, 125], [41, 163, 12...\n",
      "1           cat  [[[120, 9, 240], [120, 9, 237], [120, 9, 233],...\n",
      "2           cat  [[[30, 46, 56], [30, 46, 56], [30, 46, 56], [3...\n",
      "3           cat  [[[41, 255, 74], [43, 255, 62], [44, 255, 55],...\n",
      "4           cat  [[[30, 21, 145], [30, 21, 145], [30, 21, 144],...\n",
      "...         ...                                                ...\n",
      "26174  elephant  [[[51, 126, 105], [51, 126, 105], [51, 126, 10...\n",
      "26175  elephant  [[[0, 0, 245], [0, 0, 241], [0, 0, 254], [0, 0...\n",
      "26176  elephant  [[[40, 17, 132], [40, 18, 127], [40, 19, 121],...\n",
      "26177  elephant  [[[96, 10, 131], [83, 5, 190], [75, 2, 240], [...\n",
      "26178  elephant  [[[0, 0, 253], [0, 0, 253], [0, 0, 253], [0, 0...\n",
      "\n",
      "[26179 rows x 2 columns]\n",
      "Index(['label', 'img_hsv'], dtype='object')\n"
     ]
    }
   ],
   "metadata": {}
  },
  {
   "cell_type": "code",
   "execution_count": 4,
   "source": [
    "size=120\n",
    "working_df['img_hsv'] = working_df['img_hsv'].apply(lambda x: cv2.resize(x, (size, size)))\n",
    "print(working_df['img_hsv'].apply(lambda x: x.shape).unique().shape)\n",
    "\n",
    "\n",
    "#redimentionne les images en 80*80"
   ],
   "outputs": [
    {
     "output_type": "stream",
     "name": "stdout",
     "text": [
      "(1,)\n"
     ]
    }
   ],
   "metadata": {}
  },
  {
   "cell_type": "code",
   "execution_count": 5,
   "source": [
    "#img to array\n",
    "print(working_df['img_hsv'].shape)#nombre d'images\n",
    "print(working_df['img_hsv'].iloc[0].shape)\n",
    "print(type(working_df['img_hsv']))\n",
    "print(type(working_df['img_hsv'].iloc[0]))\n",
    "working_df['img_hsv'] = working_df['img_hsv'].apply(lambda x: x.reshape(-1))\n",
    "X = working_df['img_hsv'].values\n",
    "X = np.stack(X)\n"
   ],
   "outputs": [
    {
     "output_type": "stream",
     "name": "stdout",
     "text": [
      "(26179,)\n",
      "(120, 120, 3)\n",
      "<class 'pandas.core.series.Series'>\n",
      "<class 'numpy.ndarray'>\n"
     ]
    }
   ],
   "metadata": {}
  },
  {
   "cell_type": "code",
   "execution_count": 6,
   "source": [
    "#print (X)\n",
    "#print (working_df)\n",
    "#print (df)"
   ],
   "outputs": [],
   "metadata": {}
  },
  {
   "cell_type": "code",
   "execution_count": 7,
   "source": [
    "#transforme le texte des labels en chiffres\n",
    "from sklearn import preprocessing\n",
    "le = preprocessing.LabelEncoder()\n",
    "working_df['label'] = le.fit_transform(working_df['label']) # 0 cat, 1 dog\n",
    "print(working_df['label'].value_counts())"
   ],
   "outputs": [
    {
     "output_type": "stream",
     "name": "stdout",
     "text": [
      "4    4863\n",
      "8    4821\n",
      "2    3098\n",
      "6    2623\n",
      "0    2112\n",
      "3    1866\n",
      "9    1862\n",
      "7    1820\n",
      "1    1668\n",
      "5    1446\n",
      "Name: label, dtype: int64\n"
     ]
    }
   ],
   "metadata": {}
  },
  {
   "cell_type": "code",
   "execution_count": 8,
   "source": [
    "#train test split\n",
    "from sklearn.model_selection import train_test_split\n",
    "X_train, X_test, y_train, y_test = train_test_split(X, working_df['label'], test_size=0.2)\n",
    "print(X_train.shape)\n",
    "print(X_test.shape)\n",
    "print(y_train.shape)\n",
    "print(y_test.shape)"
   ],
   "outputs": [
    {
     "output_type": "stream",
     "name": "stdout",
     "text": [
      "(20943, 43200)\n",
      "(5236, 43200)\n",
      "(20943,)\n",
      "(5236,)\n"
     ]
    }
   ],
   "metadata": {}
  },
  {
   "cell_type": "code",
   "execution_count": 9,
   "source": [
    "#pickle.dump(X_test, open('/Users/jami/Documents local/GitHub/local-Animal-identification-NN/dataset/raw-img/X_test.pkl', 'wb'))\n",
    "#pickle.dump(y_test, open('/Users/jami/Documents local/GitHub/local-Animal-identification-NN/dataset/raw-img/y_test.pkl', 'wb'))"
   ],
   "outputs": [],
   "metadata": {}
  },
  {
   "cell_type": "code",
   "execution_count": 10,
   "source": [
    "print(working_df)"
   ],
   "outputs": [
    {
     "output_type": "stream",
     "name": "stdout",
     "text": [
      "       label                                            img_hsv\n",
      "0          1  [41, 164, 124, 41, 166, 122, 42, 171, 116, 43,...\n",
      "1          1  [120, 9, 236, 120, 9, 231, 120, 9, 232, 120, 9...\n",
      "2          1  [30, 46, 56, 30, 46, 55, 30, 44, 57, 30, 43, 5...\n",
      "3          1  [44, 255, 52, 38, 242, 95, 40, 255, 79, 35, 23...\n",
      "4          1  [30, 21, 145, 30, 21, 146, 30, 21, 146, 26, 27...\n",
      "...      ...                                                ...\n",
      "26174      5  [51, 126, 105, 51, 126, 105, 50, 125, 104, 49,...\n",
      "26175      5  [0, 0, 252, 0, 0, 249, 0, 0, 250, 0, 0, 250, 0...\n",
      "26176      5  [40, 18, 128, 40, 19, 119, 40, 18, 125, 40, 18...\n",
      "26177      5  [91, 6, 181, 31, 4, 215, 18, 10, 254, 21, 15, ...\n",
      "26178      5  [0, 0, 253, 0, 0, 253, 0, 0, 253, 0, 0, 253, 0...\n",
      "\n",
      "[26179 rows x 2 columns]\n"
     ]
    }
   ],
   "metadata": {}
  },
  {
   "cell_type": "code",
   "execution_count": 11,
   "source": [
    "from sklearn.tree import DecisionTreeClassifier\n",
    "Arbre_decision = DecisionTreeClassifier(random_state=0, max_depth=20)\n",
    "Arbre_decision.fit(X_train, y_train)\n",
    "Arbre_decision.score(X_test, y_test)"
   ],
   "outputs": [],
   "metadata": {}
  },
  {
   "cell_type": "code",
   "execution_count": null,
   "source": [
    "from sklearn.neighbors import KNeighborsClassifier\n",
    "KNN = KNeighborsClassifier()\n",
    "KNN.fit(X_train, y_train)\n",
    "KNN.score(X_test, y_test)\n"
   ],
   "outputs": [
    {
     "output_type": "execute_result",
     "data": {
      "text/plain": [
       "0.28132161955691365"
      ]
     },
     "metadata": {},
     "execution_count": 12
    }
   ],
   "metadata": {}
  },
  {
   "cell_type": "code",
   "execution_count": null,
   "source": [
    "from sklearn.svm import SVC\n",
    "SVM = SVC(gamma = 10, C=1)\n",
    "SVM.fit(X_train, y_train)\n",
    "SVM.score(X_test, y_test, verbose=3)"
   ],
   "outputs": [],
   "metadata": {}
  },
  {
   "cell_type": "code",
   "execution_count": null,
   "source": [],
   "outputs": [],
   "metadata": {}
  },
  {
   "cell_type": "code",
   "execution_count": null,
   "source": [
    "pickle.dump(KNN, open('/Users/jami/Documents local/GitHub/local-Animal-identification-NN/dataset/raw-img/knn.pkl', 'wb'))"
   ],
   "outputs": [],
   "metadata": {}
  },
  {
   "cell_type": "code",
   "execution_count": null,
   "source": [
    "y_pred = KNN.predict(X_test)\n"
   ],
   "outputs": [],
   "metadata": {}
  },
  {
   "cell_type": "code",
   "execution_count": null,
   "source": [
    "from sklearn.metrics import classification_report, confusion_matrix\n",
    "print(confusion_matrix(y_test, y_pred))\n",
    "print(classification_report(y_test, y_pred))\n"
   ],
   "outputs": [
    {
     "output_type": "stream",
     "name": "stdout",
     "text": [
      "[[ 16 326]\n",
      " [  5 960]]\n",
      "              precision    recall  f1-score   support\n",
      "\n",
      "           0       0.76      0.05      0.09       342\n",
      "           1       0.75      0.99      0.85       965\n",
      "\n",
      "    accuracy                           0.75      1307\n",
      "   macro avg       0.75      0.52      0.47      1307\n",
      "weighted avg       0.75      0.75      0.65      1307\n",
      "\n"
     ]
    }
   ],
   "metadata": {}
  },
  {
   "cell_type": "code",
   "execution_count": null,
   "source": [
    "error = []\n",
    "\n",
    "# Calculating error for K values between 1 and 40\n",
    "for i in range(1, 40):\n",
    "    knn = KNeighborsClassifier(n_neighbors=i)\n",
    "    knn.fit(X_train, y_train)\n",
    "    pred_i = knn.predict(X_test)\n",
    "    error.append(np.mean(pred_i != y_test))\n"
   ],
   "outputs": [],
   "metadata": {}
  },
  {
   "cell_type": "code",
   "execution_count": null,
   "source": [
    "plt.figure(figsize=(12, 6))\n",
    "plt.plot(range(1, 40), error, color='red', linestyle='dashed', marker='o',\n",
    "         markerfacecolor='blue', markersize=10)\n",
    "plt.title('Error Rate K Value')\n",
    "plt.xlabel('K Value')\n",
    "plt.ylabel('Mean Error')"
   ],
   "outputs": [
    {
     "output_type": "execute_result",
     "data": {
      "text/plain": [
       "Text(0, 0.5, 'Mean Error')"
      ]
     },
     "metadata": {},
     "execution_count": 24
    },
    {
     "output_type": "display_data",
     "data": {
      "image/png": "[encoded data removed]",
      "text/plain": [
       "<Figure size 864x432 with 1 Axes>"
      ]
     },
     "metadata": {
      "needs_background": "light"
     }
    }
   ],
   "metadata": {}
  }
 ],
 "metadata": {
  "orig_nbformat": 4,
  "language_info": {
   "name": "python",
   "version": "3.9.7",
   "mimetype": "text/x-python",
   "codemirror_mode": {
    "name": "ipython",
    "version": 3
   },
   "pygments_lexer": "ipython3",
   "nbconvert_exporter": "python",
   "file_extension": ".py"
  },
  "kernelspec": {
   "name": "python3",
   "display_name": "Python 3.9.7 64-bit ('base': conda)"
  },
  "interpreter": {
   "hash": "11b97756db98ff135b37f2db2a8b93e297ca8e6c2cf4776734b0ee0ef620ee1c"
  }
 },
 "nbformat": 4,
 "nbformat_minor": 2
}