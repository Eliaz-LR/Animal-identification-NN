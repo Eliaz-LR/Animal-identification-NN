{
 "cells": [
  {
   "cell_type": "code",
   "execution_count": 1,
   "metadata": {},
   "outputs": [],
   "source": [
    "import numpy as np\n",
    "import matplotlib.pyplot as plt\n",
    "import tensorflow.keras"
   ]
  },
  {
   "cell_type": "markdown",
   "metadata": {},
   "source": [
    "# Testing"
   ]
  },
  {
   "cell_type": "code",
   "execution_count": 2,
   "metadata": {},
   "outputs": [],
   "source": [
    "# Load the dataset\n",
    "X_test =np.load('D:\\\\variables\\\\X_test_rgb.npy')\n",
    "test_Y_one_hot =np.load('D:\\\\variables\\\\y_test_rgb.npy')\n",
    "y_test=np.load('D:\\\\variables\\\\y_test_basic.npy')"
   ]
  },
  {
   "cell_type": "code",
   "execution_count": 4,
   "metadata": {},
   "outputs": [],
   "source": [
    "model = tensorflow.keras.models.load_model('D:\\\\model_rgb.h5')"
   ]
  },
  {
   "cell_type": "code",
   "execution_count": 5,
   "metadata": {},
   "outputs": [
    {
     "name": "stdout",
     "output_type": "stream",
     "text": [
      "164/164 [==============================] - 4s 15ms/step - loss: 1.1343 - accuracy: 0.6620\n"
     ]
    }
   ],
   "source": [
    "eval = model.evaluate(X_test, test_Y_one_hot, verbose=1)"
   ]
  },
  {
   "cell_type": "code",
   "execution_count": 7,
   "metadata": {},
   "outputs": [
    {
     "name": "stderr",
     "output_type": "stream",
     "text": [
      "C:\\Users\\Eliaz\\AppData\\Roaming\\Python\\Python39\\site-packages\\sklearn\\base.py:329: UserWarning: Trying to unpickle estimator LabelEncoder from version 1.0.1 when using version 1.0.2. This might lead to breaking code or invalid results. Use at your own risk. For more info please refer to:\n",
      "https://scikit-learn.org/stable/modules/model_persistence.html#security-maintainability-limitations\n",
      "  warnings.warn(\n"
     ]
    }
   ],
   "source": [
    "import pickle\n",
    "from sklearn import preprocessing\n",
    "filename = 'D:\\\\variables\\\\LabelEncoder.pkl'\n",
    "le = pickle.load(open(filename, 'rb'))"
   ]
  },
  {
   "cell_type": "code",
   "execution_count": 8,
   "metadata": {},
   "outputs": [
    {
     "name": "stdout",
     "output_type": "stream",
     "text": [
      "['butterfly' 'cat' 'chicken' 'cow' 'dog' 'elephant' 'horse' 'sheep'\n",
      " 'spider' 'squirrel']\n"
     ]
    }
   ],
   "source": [
    "num_classes = test_Y_one_hot.shape[1]\n",
    "target_names = le.inverse_transform(np.arange(num_classes))\n",
    "print(target_names)"
   ]
  },
  {
   "cell_type": "code",
   "execution_count": 9,
   "metadata": {},
   "outputs": [
    {
     "name": "stdout",
     "output_type": "stream",
     "text": [
      "              precision    recall  f1-score   support\n",
      "\n",
      "   butterfly       0.82      0.69      0.75       407\n",
      "         cat       0.48      0.37      0.42       350\n",
      "     chicken       0.85      0.67      0.75       601\n",
      "         cow       0.56      0.45      0.50       368\n",
      "         dog       0.62      0.72      0.66      1002\n",
      "    elephant       0.71      0.46      0.56       289\n",
      "       horse       0.71      0.68      0.69       518\n",
      "       sheep       0.52      0.64      0.58       363\n",
      "      spider       0.73      0.87      0.80       963\n",
      "    squirrel       0.50      0.59      0.54       375\n",
      "\n",
      "    accuracy                           0.66      5236\n",
      "   macro avg       0.65      0.61      0.62      5236\n",
      "weighted avg       0.67      0.66      0.66      5236\n",
      "\n"
     ]
    }
   ],
   "source": [
    "#prediction\n",
    "pred = model.predict(X_test)\n",
    "#see results by label\n",
    "pred_label = np.argmax(pred, axis=1)\n",
    "#print(pred_label)\n",
    "from sklearn.metrics import classification_report\n",
    "print(classification_report(y_test, pred_label, target_names=target_names))"
   ]
  }
 ],
 "metadata": {
  "interpreter": {
   "hash": "b89b5cfaba6639976dc87ff2fec6d58faec662063367e2c229c520fe71072417"
  },
  "kernelspec": {
   "display_name": "Python 3.10.0 64-bit",
   "language": "python",
   "name": "python3"
  },
  "language_info": {
   "codemirror_mode": {
    "name": "ipython",
    "version": 3
   },
   "file_extension": ".py",
   "mimetype": "text/x-python",
   "name": "python",
   "nbconvert_exporter": "python",
   "pygments_lexer": "ipython3",
   "version": "3.9.9"
  },
  "orig_nbformat": 4
 },
 "nbformat": 4,
 "nbformat_minor": 2
}
