{
 "cells": [
  {
   "cell_type": "code",
   "execution_count": 10,
   "metadata": {},
   "outputs": [],
   "source": [
    "import pickle\n",
    "X_test = pickle.load(open('C:\\\\Users\\\\Eliaz\\\\Documents\\\\GitHub\\\\Animal-identification-NN\\\\dataset\\\\raw-img\\\\X_test.pkl', 'rb'))\n",
    "y_test = pickle.load(open('C:\\\\Users\\\\Eliaz\\\\Documents\\\\GitHub\\\\Animal-identification-NN\\\\dataset\\\\raw-img\\\\y_test.pkl', 'rb'))"
   ]
  },
  {
   "cell_type": "code",
   "execution_count": 11,
   "metadata": {},
   "outputs": [],
   "source": [
    "MLPC = pickle.load(open('C:\\\\Users\\\\Eliaz\\\\Documents\\\\GitHub\\\\Animal-identification-NN\\\\dataset\\\\raw-img\\\\MLPC.pkl', 'rb'))"
   ]
  },
  {
   "cell_type": "code",
   "execution_count": 12,
   "metadata": {},
   "outputs": [
    {
     "name": "stdout",
     "output_type": "stream",
     "text": [
      "predicted [0 0 0 0 1 1 0 1 1 0]\n",
      "y_test 10291    1\n",
      "9870     1\n",
      "11894    1\n",
      "3258     0\n",
      "12070    1\n",
      "12589    1\n",
      "3696     0\n",
      "11960    1\n",
      "10180    1\n",
      "3744     0\n",
      "Name: label, dtype: int32\n",
      "0.5011476664116297\n"
     ]
    }
   ],
   "source": [
    "predictions = MLPC.predict(X_test)\n",
    "print('predicted',predictions[:10])\n",
    "print('y_test',y_test[:10])\n",
    "from sklearn.metrics import accuracy_score\n",
    "print(1-accuracy_score(y_test, predictions))"
   ]
  }
 ],
 "metadata": {
  "interpreter": {
   "hash": "b89b5cfaba6639976dc87ff2fec6d58faec662063367e2c229c520fe71072417"
  },
  "kernelspec": {
   "display_name": "Python 3.10.0 64-bit",
   "language": "python",
   "name": "python3"
  },
  "language_info": {
   "codemirror_mode": {
    "name": "ipython",
    "version": 3
   },
   "file_extension": ".py",
   "mimetype": "text/x-python",
   "name": "python",
   "nbconvert_exporter": "python",
   "pygments_lexer": "ipython3",
   "version": "3.10.0"
  },
  "orig_nbformat": 4
 },
 "nbformat": 4,
 "nbformat_minor": 2
}
