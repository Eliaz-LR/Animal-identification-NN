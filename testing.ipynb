{
 "cells": [
  {
   "cell_type": "code",
   "execution_count": null,
   "metadata": {},
   "outputs": [],
   "source": [
    "import numpy as np\n",
    "import matplotlib.pyplot as plt\n",
    "import tensorflow.keras"
   ]
  },
  {
   "cell_type": "markdown",
   "metadata": {},
   "source": [
    "# Testing"
   ]
  },
  {
   "cell_type": "code",
   "execution_count": null,
   "metadata": {},
   "outputs": [],
   "source": [
    "# Load the dataset\n",
    "X_test =np.load('C:\\\\Users\\\\Eliaz\\\\Documents\\\\GitHub\\\\Animal-identification-NN\\\\dataset\\\\variables\\\\X_test_rgb.npy')\n",
    "test_Y_one_hot =np.load('C:\\\\Users\\\\Eliaz\\\\Documents\\\\GitHub\\\\Animal-identification-NN\\\\dataset\\\\variables\\\\y_test_rgb.npy')\n",
    "y_test=np.load('C:\\\\Users\\\\Eliaz\\\\Documents\\\\GitHub\\\\Animal-identification-NN\\\\dataset\\\\variables\\\\y_test_basic.npy')"
   ]
  },
  {
   "cell_type": "code",
   "execution_count": null,
   "metadata": {},
   "outputs": [],
   "source": [
    "model = tensorflow.keras.models.load_model('C:\\\\Users\\\\Eliaz\\\\Documents\\\\GitHub\\\\Animal-identification-NN\\\\dataset\\\\model_rgb.h5')"
   ]
  },
  {
   "cell_type": "code",
   "execution_count": null,
   "metadata": {},
   "outputs": [],
   "source": [
    "eval = model.evaluate(X_test, test_Y_one_hot, verbose=1)"
   ]
  },
  {
   "cell_type": "code",
   "execution_count": null,
   "metadata": {},
   "outputs": [],
   "source": [
    "import pickle\n",
    "from sklearn import preprocessing\n",
    "filename = 'C:\\\\Users\\\\Eliaz\\\\Documents\\\\GitHub\\\\Animal-identification-NN\\\\variables\\\\LabelEncoder.pkl'\n",
    "le = pickle.load(open(filename, 'rb'))"
   ]
  },
  {
   "cell_type": "code",
   "execution_count": null,
   "metadata": {},
   "outputs": [],
   "source": [
    "num_classes = test_Y_one_hot.shape[1]\n",
    "target_names = le.inverse_transform(np.arange(num_classes))\n",
    "print(target_names)"
   ]
  },
  {
   "cell_type": "code",
   "execution_count": null,
   "metadata": {},
   "outputs": [],
   "source": [
    "#prediction\n",
    "pred = model.predict(X_test)\n",
    "#see results by label\n",
    "pred_label = np.argmax(pred, axis=1)\n",
    "#print(pred_label)\n",
    "from sklearn.metrics import classification_report\n",
    "print(classification_report(y_test, pred_label, target_names=target_names))"
   ]
  }
 ],
 "metadata": {
  "interpreter": {
   "hash": "b89b5cfaba6639976dc87ff2fec6d58faec662063367e2c229c520fe71072417"
  },
  "kernelspec": {
   "display_name": "Python 3.10.0 64-bit",
   "language": "python",
   "name": "python3"
  },
  "language_info": {
   "codemirror_mode": {
    "name": "ipython",
    "version": 3
   },
   "file_extension": ".py",
   "mimetype": "text/x-python",
   "name": "python",
   "nbconvert_exporter": "python",
   "pygments_lexer": "ipython3",
   "version": "3.9.5"
  },
  "orig_nbformat": 4
 },
 "nbformat": 4,
 "nbformat_minor": 2
}
