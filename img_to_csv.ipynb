{
 "cells": [
  {
   "cell_type": "code",
   "execution_count": 1,
   "metadata": {},
   "outputs": [],
   "source": [
    "import pandas as pd\n",
    "import os\n",
    "import cv2\n",
    "import matplotlib.pyplot as plt\n",
    "\n",
    "\n",
    "def createFileList(myDir):\n",
    "    dataframe = pd.DataFrame(columns=['label', 'img'])\n",
    "    for mroot, mdirs, mfiles in os.walk(myDir):\n",
    "        for dir in mdirs:\n",
    "            label = dir\n",
    "            print(label)\n",
    "            for root, dirs, files in os.walk(mroot+'\\\\'+dir):\n",
    "                for file in files:\n",
    "                    img = cv2.imread(root+'\\\\'+file)\n",
    "                    #traitement de l'image\n",
    "                    hsv = cv2.cvtColor(img, cv2.COLOR_BGR2HSV) #range of values : 0-179, 0-255, 0-255\n",
    "                    dataframe = dataframe.append({'label': label, 'img_hsv': hsv}, ignore_index=True)\n",
    "    return dataframe\n",
    "        "
   ]
  },
  {
   "cell_type": "code",
   "execution_count": 2,
   "metadata": {},
   "outputs": [],
   "source": [
    "#img = cv2.imread('C:\\\\Users\\\\Eliaz\\\\Documents\\\\GitHub\\\\Animal-identification-NN\\\\dataset\\\\raw-img\\\\dog\\\\OIP-eXkl3wu2uTQUW2gw9KqG2wHaE8.jpeg')\n",
    "#img = cv2.resize(img, (224, 224))\n",
    "#plt.imshow(img)"
   ]
  },
  {
   "cell_type": "code",
   "execution_count": 3,
   "metadata": {},
   "outputs": [
    {
     "name": "stdout",
     "output_type": "stream",
     "text": [
      "butterfly\n",
      "cat\n",
      "chicken\n",
      "cow\n",
      "dog\n",
      "elephant\n",
      "horse\n",
      "sheep\n",
      "spider\n",
      "squirrel\n"
     ]
    }
   ],
   "source": [
    "dfFiles = createFileList('C:\\\\Users\\\\Eliaz\\\\Documents\\\\GitHub\\\\Animal-identification-NN\\\\dataset\\\\raw-img')\n",
    "#print(list)"
   ]
  },
  {
   "cell_type": "code",
   "execution_count": 5,
   "metadata": {},
   "outputs": [
    {
     "name": "stdout",
     "output_type": "stream",
     "text": [
      "(26179, 3)\n",
      "dog          4863\n",
      "spider       4821\n",
      "chicken      3098\n",
      "horse        2623\n",
      "butterfly    2112\n",
      "cow          1866\n",
      "squirrel     1862\n",
      "sheep        1820\n",
      "cat          1668\n",
      "elephant     1446\n",
      "Name: label, dtype: int64\n",
      "(1002,)\n"
     ]
    }
   ],
   "source": [
    "print(dfFiles.shape)\n",
    "print(dfFiles['label'].value_counts())\n",
    "print(dfFiles['img_hsv'].apply(lambda x: x.shape).unique().shape)\n",
    "# taille_array = ()\n",
    "# for i in dfFiles['img']:\n",
    "    "
   ]
  },
  {
   "cell_type": "code",
   "execution_count": 6,
   "metadata": {},
   "outputs": [],
   "source": [
    "dfFiles.to_csv('C:\\\\Users\\\\Eliaz\\\\Documents\\\\GitHub\\\\Animal-identification-NN\\\\dataset\\\\raw-img\\\\datasetHSV.csv', index=False)"
   ]
  }
 ],
 "metadata": {
  "interpreter": {
   "hash": "b89b5cfaba6639976dc87ff2fec6d58faec662063367e2c229c520fe71072417"
  },
  "kernelspec": {
   "display_name": "Python 3.10.0 64-bit",
   "language": "python",
   "name": "python3"
  },
  "language_info": {
   "codemirror_mode": {
    "name": "ipython",
    "version": 3
   },
   "file_extension": ".py",
   "mimetype": "text/x-python",
   "name": "python",
   "nbconvert_exporter": "python",
   "pygments_lexer": "ipython3",
   "version": "3.10.0"
  },
  "orig_nbformat": 4
 },
 "nbformat": 4,
 "nbformat_minor": 2
}
