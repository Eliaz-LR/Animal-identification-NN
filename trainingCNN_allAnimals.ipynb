{
 "cells": [
  {
   "cell_type": "code",
   "execution_count": 1,
   "metadata": {},
   "outputs": [],
   "source": [
    "import pandas as pd\n",
    "import numpy as np\n",
    "import cv2\n",
    "import matplotlib.pyplot as plt\n",
    "from matplotlib.colors import hsv_to_rgb"
   ]
  },
  {
   "cell_type": "code",
   "execution_count": 2,
   "metadata": {},
   "outputs": [],
   "source": [
    "#importe un dataframe contenant les images en hsv (car c'etait le format que je pensais le meilleur precedement) et les labels\n",
    "import pickle\n",
    "filename = 'C:\\\\Users\\\\Eliaz\\\\Documents\\\\GitHub\\\\Animal-identification-NN\\\\dataset\\\\raw-img\\\\datasetHSV.pkl'\n",
    "df = pickle.load(open(filename, 'rb'))"
   ]
  },
  {
   "cell_type": "code",
   "execution_count": 3,
   "metadata": {},
   "outputs": [
    {
     "name": "stdout",
     "output_type": "stream",
     "text": [
      "dog          4863\n",
      "spider       4821\n",
      "chicken      3098\n",
      "horse        2623\n",
      "butterfly    2112\n",
      "cow          1866\n",
      "squirrel     1862\n",
      "sheep        1820\n",
      "cat          1668\n",
      "elephant     1446\n",
      "Name: label, dtype: int64\n"
     ]
    }
   ],
   "source": [
    "working_df = df.copy()\n",
    "del df\n",
    "#working_df = working_df[np.isin(working_df['label'], ['cat', 'dog'])]\n",
    "print(working_df['label'].value_counts())"
   ]
  },
  {
   "cell_type": "code",
   "execution_count": 4,
   "metadata": {},
   "outputs": [
    {
     "name": "stdout",
     "output_type": "stream",
     "text": [
      "Index(['label', 'img_hsv'], dtype='object')\n"
     ]
    }
   ],
   "source": [
    "print(working_df.columns)"
   ]
  },
  {
   "cell_type": "code",
   "execution_count": 5,
   "metadata": {},
   "outputs": [
    {
     "name": "stdout",
     "output_type": "stream",
     "text": [
      "(1,)\n"
     ]
    }
   ],
   "source": [
    "#resize\n",
    "size=80\n",
    "working_df['img_hsv'] = working_df['img_hsv'].apply(lambda x: cv2.resize(x, (size, size)))\n",
    "print(working_df['img_hsv'].apply(lambda x: x.shape).unique().shape)"
   ]
  },
  {
   "cell_type": "code",
   "execution_count": 6,
   "metadata": {},
   "outputs": [],
   "source": [
    "#hsv to gray\n",
    "working_df['img_hsv'] = working_df['img_hsv'].apply(lambda x: cv2.cvtColor(x, cv2.COLOR_HSV2RGB))\n",
    "#working_df['img_hsv'] = working_df['img_hsv'].apply(lambda x: cv2.cvtColor(x, cv2.COLOR_RGB2GRAY))"
   ]
  },
  {
   "cell_type": "code",
   "execution_count": 7,
   "metadata": {},
   "outputs": [
    {
     "name": "stdout",
     "output_type": "stream",
     "text": [
      "(26179,)\n",
      "(80, 80, 3)\n",
      "<class 'pandas.core.series.Series'>\n",
      "<class 'numpy.ndarray'>\n",
      "(26179, 80, 80, 3)\n"
     ]
    }
   ],
   "source": [
    "#img to array\n",
    "print(working_df['img_hsv'].shape)\n",
    "print(working_df['img_hsv'].iloc[0].shape)\n",
    "print(type(working_df['img_hsv']))\n",
    "print(type(working_df['img_hsv'].iloc[0]))\n",
    "working_df['img_hsv'] = working_df['img_hsv'].apply(lambda x: x.reshape(size, size, 3))\n",
    "#working_df['img_hsv'] = working_df['img_hsv'].apply(lambda x: x.reshape(size, size, 1))\n",
    "X = working_df['img_hsv'].values\n",
    "X = np.stack(X)\n",
    "print(X.shape)"
   ]
  },
  {
   "cell_type": "code",
   "execution_count": 8,
   "metadata": {},
   "outputs": [
    {
     "name": "stdout",
     "output_type": "stream",
     "text": [
      "4    4863\n",
      "8    4821\n",
      "2    3098\n",
      "6    2623\n",
      "0    2112\n",
      "3    1866\n",
      "9    1862\n",
      "7    1820\n",
      "1    1668\n",
      "5    1446\n",
      "Name: label, dtype: int64\n"
     ]
    }
   ],
   "source": [
    "#transforme le texte des labels en chiffres\n",
    "from sklearn import preprocessing\n",
    "le = preprocessing.LabelEncoder()\n",
    "working_df['label'] = le.fit_transform(working_df['label']) # 0 cat, 1 dog\n",
    "print(working_df['label'].value_counts())"
   ]
  },
  {
   "cell_type": "code",
   "execution_count": 9,
   "metadata": {},
   "outputs": [],
   "source": [
    "#train test split\n",
    "from sklearn.model_selection import train_test_split\n",
    "X_train, X_test, y_train, y_test = train_test_split(X, working_df['label'], test_size=0.2)\n"
   ]
  },
  {
   "cell_type": "code",
   "execution_count": 10,
   "metadata": {},
   "outputs": [
    {
     "name": "stdout",
     "output_type": "stream",
     "text": [
      "turns 2 into [0. 0. 1. 0. 0. 0. 0. 0. 0. 0.]\n"
     ]
    }
   ],
   "source": [
    "from tensorflow.keras.utils import to_categorical\n",
    "num = 2\n",
    "train_Y_one_hot = to_categorical(y_train)\n",
    "test_Y_one_hot = to_categorical(y_test)\n",
    "print('turns',y_train.iloc[num],'into', train_Y_one_hot[num])"
   ]
  },
  {
   "cell_type": "code",
   "execution_count": 11,
   "metadata": {},
   "outputs": [],
   "source": [
    "#impression image \n",
    "# img = X[num]\n",
    "# rgb = cv2.cvtColor(img, cv2.COLOR_HSV2RGB)\n",
    "# plt.imshow(rgb)"
   ]
  },
  {
   "cell_type": "code",
   "execution_count": 12,
   "metadata": {},
   "outputs": [],
   "source": [
    "import tensorflow.keras\n",
    "from tensorflow.keras.models import Sequential\n",
    "from tensorflow.keras.layers import Dense, Dropout, Flatten, Conv2D, MaxPooling2D\n",
    "from keras.layers.advanced_activations import LeakyReLU"
   ]
  },
  {
   "cell_type": "code",
   "execution_count": 13,
   "metadata": {},
   "outputs": [
    {
     "name": "stdout",
     "output_type": "stream",
     "text": [
      "10\n"
     ]
    }
   ],
   "source": [
    "num_classes = train_Y_one_hot.shape[1]\n",
    "print(num_classes)"
   ]
  },
  {
   "cell_type": "code",
   "execution_count": 14,
   "metadata": {},
   "outputs": [],
   "source": [
    "model = Sequential()\n",
    "model.add(Conv2D(32, kernel_size=(5, 5),activation='linear',input_shape=(size,size,X.shape[3])))\n",
    "model.add(LeakyReLU(alpha=0.1))\n",
    "model.add(MaxPooling2D(pool_size=(2, 2),padding='same'))\n",
    "model.add(Conv2D(64, (3, 3), activation='linear'))\n",
    "model.add(LeakyReLU(alpha=0.1))\n",
    "model.add(MaxPooling2D(pool_size=(2, 2),padding='same'))\n",
    "model.add(Flatten())\n",
    "#reseau de neurone \"classique\" pour la deriere couche cachee\n",
    "model.add(Dense(128, activation='linear'))\n",
    "model.add(LeakyReLU(alpha=0.1))\n",
    "#couche de sortie\n",
    "model.add(Dense(num_classes, activation='softmax'))"
   ]
  },
  {
   "cell_type": "code",
   "execution_count": 15,
   "metadata": {},
   "outputs": [],
   "source": [
    "model.compile(loss=tensorflow.keras.losses.categorical_crossentropy, optimizer=tensorflow.keras.optimizers.Adam(),metrics=['accuracy'])"
   ]
  },
  {
   "cell_type": "code",
   "execution_count": 16,
   "metadata": {},
   "outputs": [
    {
     "name": "stdout",
     "output_type": "stream",
     "text": [
      "Model: \"sequential\"\n",
      "_________________________________________________________________\n",
      " Layer (type)                Output Shape              Param #   \n",
      "=================================================================\n",
      " conv2d (Conv2D)             (None, 76, 76, 32)        2432      \n",
      "                                                                 \n",
      " leaky_re_lu (LeakyReLU)     (None, 76, 76, 32)        0         \n",
      "                                                                 \n",
      " max_pooling2d (MaxPooling2D  (None, 38, 38, 32)       0         \n",
      " )                                                               \n",
      "                                                                 \n",
      " conv2d_1 (Conv2D)           (None, 36, 36, 64)        18496     \n",
      "                                                                 \n",
      " leaky_re_lu_1 (LeakyReLU)   (None, 36, 36, 64)        0         \n",
      "                                                                 \n",
      " max_pooling2d_1 (MaxPooling  (None, 18, 18, 64)       0         \n",
      " 2D)                                                             \n",
      "                                                                 \n",
      " flatten (Flatten)           (None, 20736)             0         \n",
      "                                                                 \n",
      " dense (Dense)               (None, 128)               2654336   \n",
      "                                                                 \n",
      " leaky_re_lu_2 (LeakyReLU)   (None, 128)               0         \n",
      "                                                                 \n",
      " dense_1 (Dense)             (None, 10)                1290      \n",
      "                                                                 \n",
      "=================================================================\n",
      "Total params: 2,676,554\n",
      "Trainable params: 2,676,554\n",
      "Non-trainable params: 0\n",
      "_________________________________________________________________\n"
     ]
    }
   ],
   "source": [
    "model.summary()"
   ]
  },
  {
   "cell_type": "code",
   "execution_count": 17,
   "metadata": {},
   "outputs": [
    {
     "name": "stdout",
     "output_type": "stream",
     "text": [
      "Epoch 1/10\n",
      "164/164 [==============================] - 121s 731ms/step - loss: 13.8342 - accuracy: 0.2766 - val_loss: 1.7758 - val_accuracy: 0.4112\n",
      "Epoch 2/10\n",
      "164/164 [==============================] - 121s 739ms/step - loss: 1.6556 - accuracy: 0.4648 - val_loss: 1.6029 - val_accuracy: 0.4658\n",
      "Epoch 3/10\n",
      "164/164 [==============================] - 113s 688ms/step - loss: 1.3446 - accuracy: 0.5535 - val_loss: 1.4694 - val_accuracy: 0.5115\n",
      "Epoch 4/10\n",
      "164/164 [==============================] - 127s 775ms/step - loss: 1.0987 - accuracy: 0.6406 - val_loss: 1.5862 - val_accuracy: 0.5036\n",
      "Epoch 5/10\n",
      "164/164 [==============================] - 121s 740ms/step - loss: 0.9225 - accuracy: 0.6985 - val_loss: 1.4139 - val_accuracy: 0.5481\n",
      "Epoch 6/10\n",
      "164/164 [==============================] - 115s 700ms/step - loss: 0.7671 - accuracy: 0.7521 - val_loss: 1.6664 - val_accuracy: 0.5019\n",
      "Epoch 7/10\n",
      "164/164 [==============================] - 111s 677ms/step - loss: 0.6085 - accuracy: 0.8089 - val_loss: 1.4992 - val_accuracy: 0.5586\n",
      "Epoch 8/10\n",
      "164/164 [==============================] - 120s 730ms/step - loss: 0.4713 - accuracy: 0.8524 - val_loss: 1.7005 - val_accuracy: 0.5516\n",
      "Epoch 9/10\n",
      "164/164 [==============================] - 116s 704ms/step - loss: 0.3619 - accuracy: 0.8897 - val_loss: 1.9291 - val_accuracy: 0.5374\n",
      "Epoch 10/10\n",
      "164/164 [==============================] - 110s 668ms/step - loss: 0.2801 - accuracy: 0.9188 - val_loss: 1.8649 - val_accuracy: 0.5523\n"
     ]
    },
    {
     "data": {
      "text/plain": [
       "<keras.callbacks.History at 0x236e3f6a940>"
      ]
     },
     "execution_count": 17,
     "metadata": {},
     "output_type": "execute_result"
    }
   ],
   "source": [
    "model.fit(X_train, train_Y_one_hot, batch_size=128, epochs=10, verbose=1, validation_data=(X_test, test_Y_one_hot))"
   ]
  },
  {
   "cell_type": "code",
   "execution_count": 18,
   "metadata": {},
   "outputs": [
    {
     "data": {
      "text/plain": [
       "Text(0.5, 0, 'epoch')"
      ]
     },
     "execution_count": 18,
     "metadata": {},
     "output_type": "execute_result"
    },
    {
     "data": {
      "image/png": "[encoded data removed]",
      "text/plain": [
       "<Figure size 432x288 with 1 Axes>"
      ]
     },
     "metadata": {
      "needs_background": "light"
     },
     "output_type": "display_data"
    }
   ],
   "source": [
    "#graph accuracy vs val_accuracy\n",
    "plt.plot(model.history.history['accuracy'])\n",
    "plt.plot(model.history.history['val_accuracy'])\n",
    "plt.title('model accuracy')\n",
    "plt.ylabel('accuracy')\n",
    "plt.xlabel('epoch')"
   ]
  },
  {
   "cell_type": "code",
   "execution_count": 19,
   "metadata": {},
   "outputs": [
    {
     "data": {
      "text/plain": [
       "Text(0.5, 0, 'epoch')"
      ]
     },
     "execution_count": 19,
     "metadata": {},
     "output_type": "execute_result"
    },
    {
     "data": {
      "image/png": "[encoded data removed]",
      "text/plain": [
       "<Figure size 432x288 with 1 Axes>"
      ]
     },
     "metadata": {
      "needs_background": "light"
     },
     "output_type": "display_data"
    }
   ],
   "source": [
    "#graph loss vs val_loss\n",
    "plt.plot(model.history.history['loss'])\n",
    "plt.plot(model.history.history['val_loss'])\n",
    "plt.title('model loss')\n",
    "plt.ylabel('loss')\n",
    "plt.xlabel('epoch')"
   ]
  },
  {
   "cell_type": "code",
   "execution_count": 25,
   "metadata": {},
   "outputs": [],
   "source": [
    "#save model\n",
    "model.save('C:\\\\Users\\\\Eliaz\\\\Documents\\\\GitHub\\\\Animal-identification-NN\\\\dataset\\\\model_rgb_80px.h5')"
   ]
  },
  {
   "cell_type": "markdown",
   "metadata": {},
   "source": [
    "# Testing"
   ]
  },
  {
   "cell_type": "code",
   "execution_count": 26,
   "metadata": {},
   "outputs": [],
   "source": [
    "model = tensorflow.keras.models.load_model('C:\\\\Users\\\\Eliaz\\\\Documents\\\\GitHub\\\\Animal-identification-NN\\\\dataset\\\\model_rgb_80px.h5')"
   ]
  },
  {
   "cell_type": "code",
   "execution_count": 27,
   "metadata": {},
   "outputs": [
    {
     "name": "stdout",
     "output_type": "stream",
     "text": [
      "164/164 [==============================] - 10s 60ms/step - loss: 1.8649 - accuracy: 0.5523\n"
     ]
    }
   ],
   "source": [
    "eval = model.evaluate(X_test, test_Y_one_hot, verbose=1)"
   ]
  },
  {
   "cell_type": "code",
   "execution_count": 28,
   "metadata": {},
   "outputs": [
    {
     "name": "stdout",
     "output_type": "stream",
     "text": [
      "['butterfly' 'cat' 'chicken' 'cow' 'dog' 'elephant' 'horse' 'sheep'\n",
      " 'spider' 'squirrel']\n"
     ]
    }
   ],
   "source": [
    "target_names = le.inverse_transform(np.arange(num_classes))\n",
    "print(target_names)"
   ]
  },
  {
   "cell_type": "code",
   "execution_count": 29,
   "metadata": {},
   "outputs": [
    {
     "name": "stdout",
     "output_type": "stream",
     "text": [
      "              precision    recall  f1-score   support\n",
      "\n",
      "   butterfly       0.64      0.64      0.64       422\n",
      "         cat       0.33      0.23      0.28       342\n",
      "     chicken       0.45      0.74      0.56       594\n",
      "         cow       0.59      0.34      0.43       365\n",
      "         dog       0.55      0.62      0.58       977\n",
      "    elephant       0.66      0.34      0.45       310\n",
      "       horse       0.63      0.50      0.56       521\n",
      "       sheep       0.50      0.42      0.45       390\n",
      "      spider       0.71      0.71      0.71       942\n",
      "    squirrel       0.40      0.47      0.43       373\n",
      "\n",
      "    accuracy                           0.55      5236\n",
      "   macro avg       0.55      0.50      0.51      5236\n",
      "weighted avg       0.56      0.55      0.55      5236\n",
      "\n"
     ]
    }
   ],
   "source": [
    "#prediction\n",
    "pred = model.predict(X_test)\n",
    "#see results by label\n",
    "pred_label = np.argmax(pred, axis=1)\n",
    "#print(pred_label)\n",
    "from sklearn.metrics import classification_report\n",
    "print(classification_report(y_test, pred_label, target_names=target_names))\n"
   ]
  }
 ],
 "metadata": {
  "interpreter": {
   "hash": "b89b5cfaba6639976dc87ff2fec6d58faec662063367e2c229c520fe71072417"
  },
  "kernelspec": {
   "display_name": "Python 3.10.0 64-bit",
   "language": "python",
   "name": "python3"
  },
  "language_info": {
   "codemirror_mode": {
    "name": "ipython",
    "version": 3
   },
   "file_extension": ".py",
   "mimetype": "text/x-python",
   "name": "python",
   "nbconvert_exporter": "python",
   "pygments_lexer": "ipython3",
   "version": "3.9.5"
  },
  "orig_nbformat": 4
 },
 "nbformat": 4,
 "nbformat_minor": 2
}
