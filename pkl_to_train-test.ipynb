{
 "cells": [
  {
   "cell_type": "markdown",
   "metadata": {},
   "source": [
    "**Important : make sure the size set here is the same than in trainingCNN**"
   ]
  },
  {
   "cell_type": "code",
   "execution_count": null,
   "metadata": {},
   "outputs": [],
   "source": [
    "size = 224"
   ]
  },
  {
   "cell_type": "code",
   "execution_count": null,
   "metadata": {},
   "outputs": [],
   "source": [
    "import pandas as pd\n",
    "import numpy as np\n",
    "import cv2\n",
    "import matplotlib.pyplot as plt\n",
    "from matplotlib.colors import hsv_to_rgb"
   ]
  },
  {
   "cell_type": "code",
   "execution_count": null,
   "metadata": {},
   "outputs": [],
   "source": [
    "#importe un dataframe contenant les images en hsv (car c'etait le format que je pensais le meilleur precedement) et les labels\n",
    "#l'interet de passer par un .pkl est que c'est plus rapide que de lire toutes les images\n",
    "import pickle\n",
    "filename = 'C:\\\\Users\\\\Eliaz\\\\Documents\\\\GitHub\\\\Animal-identification-NN\\\\dataset\\\\raw-img\\\\datasetHSV.pkl'\n",
    "df = pickle.load(open(filename, 'rb'))"
   ]
  },
  {
   "cell_type": "code",
   "execution_count": null,
   "metadata": {},
   "outputs": [],
   "source": [
    "working_df = df.copy()\n",
    "del df\n",
    "#working_df = working_df[np.isin(working_df['label'], ['cat', 'dog'])]\n",
    "print(working_df['label'].value_counts())"
   ]
  },
  {
   "cell_type": "code",
   "execution_count": null,
   "metadata": {},
   "outputs": [],
   "source": [
    "#resize\n",
    "working_df['img_hsv'] = working_df['img_hsv'].apply(lambda x: cv2.resize(x, (size, size)))\n",
    "print(working_df['img_hsv'].apply(lambda x: x.shape).unique().shape)"
   ]
  },
  {
   "cell_type": "code",
   "execution_count": null,
   "metadata": {},
   "outputs": [],
   "source": [
    "#hsv to gray/rgb\n",
    "working_df['img_hsv'] = working_df['img_hsv'].apply(lambda x: cv2.cvtColor(x, cv2.COLOR_HSV2RGB))\n",
    "#working_df['img_hsv'] = working_df['img_hsv'].apply(lambda x: cv2.cvtColor(x, cv2.COLOR_RGB2GRAY))"
   ]
  },
  {
   "cell_type": "code",
   "execution_count": null,
   "metadata": {},
   "outputs": [],
   "source": [
    "#img to array\n",
    "print(working_df['img_hsv'].shape)\n",
    "print(working_df['img_hsv'].iloc[0].shape)\n",
    "print(type(working_df['img_hsv']))\n",
    "print(type(working_df['img_hsv'].iloc[0]))\n",
    "working_df['img_hsv'] = working_df['img_hsv'].apply(lambda x: x.reshape(size, size, 3))\n",
    "#working_df['img_hsv'] = working_df['img_hsv'].apply(lambda x: x.reshape(size, size, 1))\n",
    "X = working_df['img_hsv'].values\n",
    "X = np.stack(X)\n",
    "print(X.shape)"
   ]
  },
  {
   "cell_type": "code",
   "execution_count": null,
   "metadata": {},
   "outputs": [],
   "source": [
    "#transforme le texte des labels en chiffres\n",
    "from sklearn import preprocessing\n",
    "le = preprocessing.LabelEncoder()\n",
    "working_df['label'] = le.fit_transform(working_df['label']) # 0 cat, 1 dog\n",
    "print(working_df['label'].value_counts())"
   ]
  },
  {
   "cell_type": "code",
   "execution_count": null,
   "metadata": {},
   "outputs": [],
   "source": [
    "#train test split\n",
    "from sklearn.model_selection import train_test_split\n",
    "X_train, X_test, y_train, y_test = train_test_split(X, working_df['label'], test_size=0.2)\n"
   ]
  },
  {
   "cell_type": "code",
   "execution_count": null,
   "metadata": {},
   "outputs": [],
   "source": [
    "from tensorflow.keras.utils import to_categorical\n",
    "num = 2\n",
    "train_Y_one_hot = to_categorical(y_train)\n",
    "test_Y_one_hot = to_categorical(y_test)\n",
    "print('turns',y_train.iloc[num],'into', train_Y_one_hot[num])"
   ]
  },
  {
   "cell_type": "code",
   "execution_count": null,
   "metadata": {},
   "outputs": [],
   "source": [
    "#save train/test data\n",
    "np.save('C:\\\\Users\\\\Eliaz\\\\Documents\\\\GitHub\\\\Animal-identification-NN\\\\dataset\\\\X_train_rgb.npy', X_train)\n",
    "np.save('C:\\\\Users\\\\Eliaz\\\\Documents\\\\GitHub\\\\Animal-identification-NN\\\\dataset\\\\X_test_rgb.npy', X_test)\n",
    "np.save('C:\\\\Users\\\\Eliaz\\\\Documents\\\\GitHub\\\\Animal-identification-NN\\\\dataset\\\\y_test_rgb.npy', test_Y_one_hot)\n",
    "np.save('C:\\\\Users\\\\Eliaz\\\\Documents\\\\GitHub\\\\Animal-identification-NN\\\\dataset\\\\y_test_rgb.npy', train_Y_one_hot)"
   ]
  }
 ],
 "metadata": {
  "interpreter": {
   "hash": "63fd5069d213b44bf678585dea6b12cceca9941eaf7f819626cde1f2670de90d"
  },
  "kernelspec": {
   "display_name": "Python 3.9.5 64-bit",
   "language": "python",
   "name": "python3"
  },
  "language_info": {
   "name": "python",
   "version": "3.9.5"
  },
  "orig_nbformat": 4
 },
 "nbformat": 4,
 "nbformat_minor": 2
}
